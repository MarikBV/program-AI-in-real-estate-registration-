{
 "cells": [
  {
   "cell_type": "code",
   "execution_count": 18,
   "id": "87ff43b2-5392-4c67-97f4-25924b6abd64",
   "metadata": {},
   "outputs": [],
   "source": [
    "import csv\n",
    "import pandas as pd\n",
    "import random\n",
    "from datetime import datetime, timedelta"
   ]
  },
  {
   "cell_type": "markdown",
   "id": "86f6264b-316f-4216-a1e0-9bb4c5e73ecf",
   "metadata": {},
   "source": [
    "#### Задание 1: Работа с форматами данных\n",
    "Напишите программу на Python, который читает файл \r\n",
    "данных `data.csv`, содержащий информацию о продажах \r\n",
    "некоторого магазина (ID продажи, дата продажи, \r\n",
    "количество, цена за единицу и т.д.), и рассчитывает общий \r\n",
    "доход по каждому продукту"
   ]
  },
  {
   "cell_type": "code",
   "execution_count": 10,
   "id": "6e2e6b53-c6c7-425e-af53-2eb075f01958",
   "metadata": {},
   "outputs": [
    {
     "name": "stdout",
     "output_type": "stream",
     "text": [
      "CSV файл data.csv успешно создан.\n"
     ]
    }
   ],
   "source": [
    "def generate_data(num_records=100):\n",
    "    sales_data = []\n",
    "    start_date = datetime(2023, 1, 1)\n",
    "    for i in range(num_records):\n",
    "        date = start_date + timedelta(days=random.randint(0, 365)) \n",
    "        sales_data.append([\n",
    "            i + 1,                                  # ID продажи\n",
    "            date.strftime(\"%Y-%m-%d\"),             # Дата продажи\n",
    "            random.randint(1, 100),                # Количество\n",
    "            random.uniform(10, 100),               # Цена за единицу\n",
    "            random.choice(['Product A', 'Product B', 'Product C']), # Название продукта\n",
    "            random.choice(['Retail', 'Wholesale']), # Тип продажи (розницей\\оптом)\n",
    "        ])\n",
    "    return sales_data\n",
    "\n",
    "def write_data_to_csv(filename=\"data.csv\", num_records=100):\n",
    "    sales_data = generate_data(num_records)\n",
    "    with open(filename, 'w', newline='', encoding='utf-8') as csvfile:\n",
    "        writer = csv.writer(csvfile)\n",
    "        writer.writerow([\"ID продажи\", \"Дата продажи\", \"Количество\", \"Цена за единицу\", \"Название продукта\", \"Тип продажи\"])  \n",
    "        writer.writerows(sales_data) \n",
    "\n",
    "if __name__ == \"__main__\":\n",
    "    write_data_to_csv(num_records=500)\n",
    "    print(\"CSV файл data.csv успешно создан.\")"
   ]
  },
  {
   "cell_type": "code",
   "execution_count": 22,
   "id": "0318f9e9-9076-4fdb-932f-048cfc106481",
   "metadata": {},
   "outputs": [
    {
     "data": {
      "text/html": [
       "<div>\n",
       "<style scoped>\n",
       "    .dataframe tbody tr th:only-of-type {\n",
       "        vertical-align: middle;\n",
       "    }\n",
       "\n",
       "    .dataframe tbody tr th {\n",
       "        vertical-align: top;\n",
       "    }\n",
       "\n",
       "    .dataframe thead th {\n",
       "        text-align: right;\n",
       "    }\n",
       "</style>\n",
       "<table border=\"1\" class=\"dataframe\">\n",
       "  <thead>\n",
       "    <tr style=\"text-align: right;\">\n",
       "      <th></th>\n",
       "      <th>ID продажи</th>\n",
       "      <th>Дата продажи</th>\n",
       "      <th>Количество</th>\n",
       "      <th>Цена за единицу</th>\n",
       "      <th>Название продукта</th>\n",
       "      <th>Тип продажи</th>\n",
       "    </tr>\n",
       "  </thead>\n",
       "  <tbody>\n",
       "    <tr>\n",
       "      <th>0</th>\n",
       "      <td>1</td>\n",
       "      <td>2023-06-19</td>\n",
       "      <td>53</td>\n",
       "      <td>93.385754</td>\n",
       "      <td>Product B</td>\n",
       "      <td>Retail</td>\n",
       "    </tr>\n",
       "    <tr>\n",
       "      <th>1</th>\n",
       "      <td>2</td>\n",
       "      <td>2023-03-20</td>\n",
       "      <td>65</td>\n",
       "      <td>12.842854</td>\n",
       "      <td>Product A</td>\n",
       "      <td>Wholesale</td>\n",
       "    </tr>\n",
       "    <tr>\n",
       "      <th>2</th>\n",
       "      <td>3</td>\n",
       "      <td>2023-08-28</td>\n",
       "      <td>6</td>\n",
       "      <td>32.844433</td>\n",
       "      <td>Product A</td>\n",
       "      <td>Retail</td>\n",
       "    </tr>\n",
       "    <tr>\n",
       "      <th>3</th>\n",
       "      <td>4</td>\n",
       "      <td>2023-05-10</td>\n",
       "      <td>98</td>\n",
       "      <td>61.202498</td>\n",
       "      <td>Product C</td>\n",
       "      <td>Wholesale</td>\n",
       "    </tr>\n",
       "    <tr>\n",
       "      <th>4</th>\n",
       "      <td>5</td>\n",
       "      <td>2023-12-17</td>\n",
       "      <td>29</td>\n",
       "      <td>99.164789</td>\n",
       "      <td>Product B</td>\n",
       "      <td>Retail</td>\n",
       "    </tr>\n",
       "  </tbody>\n",
       "</table>\n",
       "</div>"
      ],
      "text/plain": [
       "   ID продажи Дата продажи  Количество  Цена за единицу Название продукта  \\\n",
       "0           1   2023-06-19          53        93.385754         Product B   \n",
       "1           2   2023-03-20          65        12.842854         Product A   \n",
       "2           3   2023-08-28           6        32.844433         Product A   \n",
       "3           4   2023-05-10          98        61.202498         Product C   \n",
       "4           5   2023-12-17          29        99.164789         Product B   \n",
       "\n",
       "  Тип продажи  \n",
       "0      Retail  \n",
       "1   Wholesale  \n",
       "2      Retail  \n",
       "3   Wholesale  \n",
       "4      Retail  "
      ]
     },
     "execution_count": 22,
     "metadata": {},
     "output_type": "execute_result"
    }
   ],
   "source": [
    "data = pd.read_csv(\"data.csv\")\n",
    "data.head()"
   ]
  },
  {
   "cell_type": "code",
   "execution_count": 80,
   "id": "1ee0607b-7339-4247-9bfd-07dc034ef058",
   "metadata": {},
   "outputs": [
    {
     "name": "stdout",
     "output_type": "stream",
     "text": [
      "{'Product B': 509456.82713051484, 'Product A': 430714.4850430896, 'Product C': 486162.75610084506}\n"
     ]
    }
   ],
   "source": [
    " with open(\"data.csv\", 'r', encoding='utf-8') as csvfile:\n",
    "    data = csv.DictReader(csvfile)\n",
    "    product_revenue = {}\n",
    "    for row in data:\n",
    "        product = row['Название продукта']\n",
    "        quantity = int(row['Количество'])\n",
    "        price = float(row['Цена за единицу'])\n",
    "        revenue = quantity * price\n",
    "        product_revenue[product] = product_revenue.get(product, 0) + revenue\n",
    "    print(product_revenue)"
   ]
  },
  {
   "cell_type": "markdown",
   "id": "57911fe1-cbae-4e74-ac35-7bce7bd57a44",
   "metadata": {},
   "source": [
    "#### Задание 2: Работа с форматами данных\n",
    "Дополните программу из Задания 1 функционалом для \r\n",
    "конвертации и сохранения этих данных в формате JSON в \r\n",
    "файл `data.json`."
   ]
  },
  {
   "cell_type": "code",
   "execution_count": 82,
   "id": "10adc90f-d247-4473-9f6c-78f8ab978a50",
   "metadata": {},
   "outputs": [
    {
     "name": "stdout",
     "output_type": "stream",
     "text": [
      "{\n",
      "    \"Product B\": 509456.82713051484,\n",
      "    \"Product A\": 430714.4850430896,\n",
      "    \"Product C\": 486162.75610084506\n",
      "}\n"
     ]
    }
   ],
   "source": [
    "import json\n",
    "json_data = json.dumps(product_revenue, ensure_ascii=False, indent=4)\n",
    "print (json_data)"
   ]
  },
  {
   "cell_type": "markdown",
   "id": "745e9b51-1f2a-4046-9cd4-6b6a8c87db4f",
   "metadata": {},
   "source": [
    "#### Задание 3: Сетевые запросы\n",
    "Используйте библиотеку `requests` для написания скрипта, \r\n",
    "который делает HTTP-запрос к API \r\n",
    "https://jsonplaceholder.typicode.com/posts и извлекает \r\n",
    "список постов"
   ]
  },
  {
   "cell_type": "code",
   "execution_count": 84,
   "id": "bb2a7d58-5756-49da-8630-01670c22f231",
   "metadata": {},
   "outputs": [
    {
     "name": "stdout",
     "output_type": "stream",
     "text": [
      "['sunt aut facere repellat provident occaecati excepturi optio reprehenderit', 'qui est esse', 'ea molestias quasi exercitationem repellat qui ipsa sit aut', 'eum et est occaecati', 'nesciunt quas odio', 'dolorem eum magni eos aperiam quia', 'magnam facilis autem', 'dolorem dolore est ipsam', 'nesciunt iure omnis dolorem tempora et accusantium', 'optio molestias id quia eum', 'et ea vero quia laudantium autem', 'in quibusdam tempore odit est dolorem', 'dolorum ut in voluptas mollitia et saepe quo animi', 'voluptatem eligendi optio', 'eveniet quod temporibus', 'sint suscipit perspiciatis velit dolorum rerum ipsa laboriosam odio', 'fugit voluptas sed molestias voluptatem provident', 'voluptate et itaque vero tempora molestiae', 'adipisci placeat illum aut reiciendis qui', 'doloribus ad provident suscipit at', 'asperiores ea ipsam voluptatibus modi minima quia sint', 'dolor sint quo a velit explicabo quia nam', 'maxime id vitae nihil numquam', 'autem hic labore sunt dolores incidunt', 'rem alias distinctio quo quis', 'est et quae odit qui non', 'quasi id et eos tenetur aut quo autem', 'delectus ullam et corporis nulla voluptas sequi', 'iusto eius quod necessitatibus culpa ea', 'a quo magni similique perferendis', 'ullam ut quidem id aut vel consequuntur', 'doloremque illum aliquid sunt', 'qui explicabo molestiae dolorem', 'magnam ut rerum iure', 'id nihil consequatur molestias animi provident', 'fuga nam accusamus voluptas reiciendis itaque', 'provident vel ut sit ratione est', 'explicabo et eos deleniti nostrum ab id repellendus', 'eos dolorem iste accusantium est eaque quam', 'enim quo cumque', 'non est facere', 'commodi ullam sint et excepturi error explicabo praesentium voluptas', 'eligendi iste nostrum consequuntur adipisci praesentium sit beatae perferendis', 'optio dolor molestias sit', 'ut numquam possimus omnis eius suscipit laudantium iure', 'aut quo modi neque nostrum ducimus', 'quibusdam cumque rem aut deserunt', 'ut voluptatem illum ea doloribus itaque eos', 'laborum non sunt aut ut assumenda perspiciatis voluptas', 'repellendus qui recusandae incidunt voluptates tenetur qui omnis exercitationem', 'soluta aliquam aperiam consequatur illo quis voluptas', 'qui enim et consequuntur quia animi quis voluptate quibusdam', 'ut quo aut ducimus alias', 'sit asperiores ipsam eveniet odio non quia', 'sit vel voluptatem et non libero', 'qui et at rerum necessitatibus', 'sed ab est est', 'voluptatum itaque dolores nisi et quasi', 'qui commodi dolor at maiores et quis id accusantium', 'consequatur placeat omnis quisquam quia reprehenderit fugit veritatis facere', 'voluptatem doloribus consectetur est ut ducimus', 'beatae enim quia vel', 'voluptas blanditiis repellendus animi ducimus error sapiente et suscipit', 'et fugit quas eum in in aperiam quod', 'consequatur id enim sunt et et', 'repudiandae ea animi iusto', 'aliquid eos sed fuga est maxime repellendus', 'odio quis facere architecto reiciendis optio', 'fugiat quod pariatur odit minima', 'voluptatem laborum magni', 'et iusto veniam et illum aut fuga', 'sint hic doloribus consequatur eos non id', 'consequuntur deleniti eos quia temporibus ab aliquid at', 'enim unde ratione doloribus quas enim ut sit sapiente', 'dignissimos eum dolor ut enim et delectus in', 'doloremque officiis ad et non perferendis', 'necessitatibus quasi exercitationem odio', 'quam voluptatibus rerum veritatis', 'pariatur consequatur quia magnam autem omnis non amet', 'labore in ex et explicabo corporis aut quas', 'tempora rem veritatis voluptas quo dolores vero', 'laudantium voluptate suscipit sunt enim enim', 'odit et voluptates doloribus alias odio et', 'optio ipsam molestias necessitatibus occaecati facilis veritatis dolores aut', 'dolore veritatis porro provident adipisci blanditiis et sunt', 'placeat quia et porro iste', 'nostrum quis quasi placeat', 'sapiente omnis fugit eos', 'sint soluta et vel magnam aut ut sed qui', 'ad iusto omnis odit dolor voluptatibus', 'aut amet sed', 'ratione ex tenetur perferendis', 'beatae soluta recusandae', 'qui qui voluptates illo iste minima', 'id minus libero illum nam ad officiis', 'quaerat velit veniam amet cupiditate aut numquam ut sequi', 'quas fugiat ut perspiciatis vero provident', 'laboriosam dolor voluptates', 'temporibus sit alias delectus eligendi possimus magni', 'at nam consequatur ea labore ea harum']\n"
     ]
    }
   ],
   "source": [
    "import requests\n",
    "url = 'https://jsonplaceholder.typicode.com/posts'\n",
    "data_titles=[]\n",
    "response = requests.get(url)\n",
    "data = response.json()\n",
    "for data in data:\n",
    "    data_titles.append(data['title'])\n",
    "print (data_titles)"
   ]
  },
  {
   "cell_type": "markdown",
   "id": "b5fd88a9-b781-45d7-b7cd-b537e530b60d",
   "metadata": {},
   "source": [
    "#### Задание 4: Сетевые запросы\n",
    "Проанализируйте полученные данные и найдите пост с \r\n",
    "максимальным количеством комментариев, используя \r\n",
    "соответствующий запрос к API для комментариев \r\n",
    "(https://jsonplaceholder.typicode.com/comments)."
   ]
  },
  {
   "cell_type": "code",
   "execution_count": 106,
   "id": "59d85dd9-a6c0-480a-aac5-a0288ef75755",
   "metadata": {},
   "outputs": [
    {
     "name": "stdout",
     "output_type": "stream",
     "text": [
      "5\n"
     ]
    }
   ],
   "source": [
    "url = 'https://jsonplaceholder.typicode.com/comments'\n",
    "response = requests.get(url)\n",
    "comments = response.json()\n",
    "post_with_most_comments = 1\n",
    "max_comments = 0\n",
    "post_counts = {}\n",
    "for comment in comments:\n",
    "    post_id = comment['postId']\n",
    "    post_counts[post_id] = post_counts.get(post_id, 0) + 1\n",
    "max_post_id = max(post_counts, key=post_counts.get)\n",
    "max_comments = post_counts[max_post_id]\n",
    "print(max_comments)"
   ]
  },
  {
   "cell_type": "code",
   "execution_count": null,
   "id": "38787031-2e6e-4b5b-be2c-eb7063124d87",
   "metadata": {},
   "outputs": [],
   "source": []
  },
  {
   "cell_type": "code",
   "execution_count": null,
   "id": "6b0f1c9a-429d-44e1-b66e-5276518e8971",
   "metadata": {},
   "outputs": [],
   "source": []
  }
 ],
 "metadata": {
  "kernelspec": {
   "display_name": "Python 3 (ipykernel)",
   "language": "python",
   "name": "python3"
  },
  "language_info": {
   "codemirror_mode": {
    "name": "ipython",
    "version": 3
   },
   "file_extension": ".py",
   "mimetype": "text/x-python",
   "name": "python",
   "nbconvert_exporter": "python",
   "pygments_lexer": "ipython3",
   "version": "3.12.4"
  }
 },
 "nbformat": 4,
 "nbformat_minor": 5
}
