{
 "cells": [
  {
   "cell_type": "markdown",
   "metadata": {},
   "source": [
    "#### Задание 1. Типы и структуры данных\n",
    "Написать программу, которая запрашивает у пользователя \r\n",
    "его имя, возраст и любимый цвет, затем выводит эту \r\n",
    "информацию обратно на экран в читаемом формате.м)"
   ]
  },
  {
   "cell_type": "code",
   "execution_count": 3,
   "metadata": {},
   "outputs": [
    {
     "name": "stdout",
     "output_type": "stream",
     "text": [
      "Ваше имя: vh, вам 10 лет, ваш любимый цвет vb.\n"
     ]
    }
   ],
   "source": [
    "name = input(\"Введите ваше имя: \")\n",
    "old = int(input(\"Введите ваш возраст: \"))\n",
    "color = input(\"Введите ваш любимый цвет: \")\n",
    "text = \"\"\"Ваше имя: {0}, вам {1} лет, ваш любимый цвет {2}.\"\"\".format(name,old,color)\n",
    "print(text)"
   ]
  },
  {
   "cell_type": "markdown",
   "metadata": {},
   "source": [
    "#### Задание 2. Типы и структуры данных\n",
    "Написать программу, которая создаёт список из чисел \r\n",
    "Фибоначчи до n-го элемента (значение n вводится \r\n",
    "пользователем) и выводит его.)"
   ]
  },
  {
   "cell_type": "code",
   "execution_count": 4,
   "metadata": {},
   "outputs": [
    {
     "name": "stdout",
     "output_type": "stream",
     "text": [
      "21\n"
     ]
    }
   ],
   "source": [
    "n = int(input(\"Введите номер члена последовательности Фибоначчи: \")) \n",
    "a = 0  \n",
    "b = 1 \n",
    "for i in range (1, n): \n",
    "    c = a + b  \n",
    "    a = b  \n",
    "    b = c \n",
    "print(b) "
   ]
  },
  {
   "cell_type": "markdown",
   "metadata": {},
   "source": [
    "#### Задание 3. Переменные и операторы\n",
    "Написать калькулятор, который выполняет основные \r\n",
    "арифметические операции: сложение, вычитание, \r\n",
    "умножение и деление. Все операнды и операторы вводятся \r\n",
    "пользователем.ое"
   ]
  },
  {
   "cell_type": "code",
   "execution_count": 6,
   "metadata": {},
   "outputs": [
    {
     "name": "stdout",
     "output_type": "stream",
     "text": [
      "Результат:  4.0\n"
     ]
    }
   ],
   "source": [
    "while True: \n",
    "    action = input(\"Введите действие (+, -, *, //) или 'стоп': \") \n",
    "    if action == \"стоп\": \n",
    "        break \n",
    "    elif action not in [\"+\", \"-\", \"*\", \"//\"]: \n",
    "        print(\"Неверный знак операции!\") \n",
    "        continue \n",
    "    num1 = float(input(\"Введите первое число: \")) \n",
    "    num2 = float(input(\"Введите второе число: \")) \n",
    "    if action == \"+\": \n",
    "        result = num1 + num2 \n",
    "    elif action == \"-\": \n",
    "        result = num1 - num2 \n",
    "    elif action == \"*\": \n",
    "        result = num1 * num2 \n",
    "    elif action == \"//\": \n",
    "        if num2 == 0: \n",
    "            print(\"На 0 делить нельзя!\") \n",
    "            continue \n",
    "        result = num1 // num2 \n",
    "    print(\"Результат: \", result)"
   ]
  }
 ],
 "metadata": {
  "kernelspec": {
   "display_name": "Python 3 (ipykernel)",
   "language": "python",
   "name": "python3"
  },
  "language_info": {
   "codemirror_mode": {
    "name": "ipython",
    "version": 3
   },
   "file_extension": ".py",
   "mimetype": "text/x-python",
   "name": "python",
   "nbconvert_exporter": "python",
   "pygments_lexer": "ipython3",
   "version": "3.12.4"
  }
 },
 "nbformat": 4,
 "nbformat_minor": 4
}
