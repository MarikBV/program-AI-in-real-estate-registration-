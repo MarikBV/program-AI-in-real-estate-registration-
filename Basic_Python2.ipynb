{
 "cells": [
  {
   "cell_type": "markdown",
   "metadata": {},
   "source": [
    "#### Задание 1. Циклы и условные операторы.  \n",
    "Написать программу, которая выводит на экран все четные \n",
    "числа в заданном диапазоне (начало и конец диапазона \n",
    "вводятся пользователем)"
   ]
  },
  {
   "cell_type": "code",
   "execution_count": 3,
   "metadata": {},
   "outputs": [
    {
     "name": "stdout",
     "output_type": "stream",
     "text": [
      "[2, 4, 6]\n"
     ]
    }
   ],
   "source": [
    "a,b= map(int,input(\"Введите начало и конец диапазона через пробел: \").split())\n",
    "d = []\n",
    "for i in range(a,b):\n",
    "    if i % 2 ==0:\n",
    "        d.append(i)\n",
    "print(d)"
   ]
  },
  {
   "cell_type": "markdown",
   "metadata": {},
   "source": [
    "#### Задание 2. Циклы и условные операторы. \n",
    " Проверить, является ли введенная строка палиндромом \n",
    "(игнорируя регистры и пробелы)"
   ]
  },
  {
   "cell_type": "code",
   "execution_count": 15,
   "metadata": {},
   "outputs": [
    {
     "name": "stdout",
     "output_type": "stream",
     "text": [
      "YES\n"
     ]
    }
   ],
   "source": [
    "s = (input())\n",
    "a = 1\n",
    "pipa = 0\n",
    "for i in range(len(s)):\n",
    "    if s[i] == s[-a]:\n",
    "        a +=1\n",
    "        pipa = 0\n",
    "        continue\n",
    "    else:\n",
    "        pipa = 1\n",
    "        break\n",
    "if pipa == 1:\n",
    "    print('NO')\n",
    "else:\n",
    "    print('YES')"
   ]
  },
  {
   "cell_type": "markdown",
   "metadata": {},
   "source": [
    "#### Задание 3. Функции\n",
    "Написать функцию, которая принимает на вход список \n",
    "чисел и возвращает их сумму, произведение и среднее \n",
    "арифметическое"
   ]
  },
  {
   "cell_type": "code",
   "execution_count": 21,
   "metadata": {},
   "outputs": [
    {
     "name": "stdout",
     "output_type": "stream",
     "text": [
      "15 120 3.0\n"
     ]
    }
   ],
   "source": [
    "import math\n",
    "a = list(map(int, input(\"Введите все числа через пробел: \").split()))\n",
    "print(sum(a), math.prod(a), (sum(a)/len(a)))"
   ]
  }
 ],
 "metadata": {
  "kernelspec": {
   "display_name": "Python 3 (ipykernel)",
   "language": "python",
   "name": "python3"
  },
  "language_info": {
   "codemirror_mode": {
    "name": "ipython",
    "version": 3
   },
   "file_extension": ".py",
   "mimetype": "text/x-python",
   "name": "python",
   "nbconvert_exporter": "python",
   "pygments_lexer": "ipython3",
   "version": "3.12.4"
  }
 },
 "nbformat": 4,
 "nbformat_minor": 4
}
